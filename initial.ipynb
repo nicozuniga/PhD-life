{
 "cells": [
  {
   "cell_type": "markdown",
   "id": "67e66cc6",
   "metadata": {},
   "source": [
    "# Lab Notebook"
   ]
  },
  {
   "cell_type": "markdown",
   "id": "625374cc",
   "metadata": {},
   "source": [
    "In this Notebooks sets, i'm writting every step in my bioinf experiment for PhD thesis. \n",
    "\n",
    "Also, every colaboration paper and side proyect will be writed down here.\n"
   ]
  },
  {
   "cell_type": "markdown",
   "id": "2b14f74b",
   "metadata": {},
   "source": [
    "# Backups"
   ]
  },
  {
   "cell_type": "markdown",
   "id": "c800e69d",
   "metadata": {},
   "source": [
    "The principal location where these notebook are going to be store, is my GitHub repository:\n",
    "\n",
    "https://github.com/nicozuniga/PhD\n",
    "\n",
    "Changes will be periodically updated when a new experiment is perform."
   ]
  },
  {
   "cell_type": "markdown",
   "id": "75b6309a",
   "metadata": {},
   "source": []
  }
 ],
 "metadata": {
  "kernelspec": {
   "display_name": "Python 3",
   "language": "python",
   "name": "python3"
  },
  "language_info": {
   "codemirror_mode": {
    "name": "ipython",
    "version": 3
   },
   "file_extension": ".py",
   "mimetype": "text/x-python",
   "name": "python",
   "nbconvert_exporter": "python",
   "pygments_lexer": "ipython3",
   "version": "3.8.8"
  }
 },
 "nbformat": 4,
 "nbformat_minor": 5
}
